{
 "cells": [
  {
   "cell_type": "code",
   "execution_count": 1,
   "metadata": {
    "collapsed": false
   },
   "outputs": [],
   "source": [
    "from ctrade import *\n",
    "from plot import *\n",
    "from datetime import datetime\n",
    "import warnings; warnings.simplefilter('ignore')\n",
    "%matplotlib inline"
   ]
  },
  {
   "cell_type": "code",
   "execution_count": 2,
   "metadata": {
    "collapsed": false
   },
   "outputs": [],
   "source": [
    "p = Poloniex()"
   ]
  },
  {
   "cell_type": "code",
   "execution_count": 3,
   "metadata": {
    "collapsed": true
   },
   "outputs": [],
   "source": [
    "major = ['ETH', 'ETC', 'BCN', 'DASH', 'DOGE', 'LTC', 'NXT', 'REP', 'ZEC', 'ARDR', 'XRP', 'STR']"
   ]
  },
  {
   "cell_type": "code",
   "execution_count": 4,
   "metadata": {
    "collapsed": false
   },
   "outputs": [],
   "source": [
    "pairs = [i for i in p.currency_pairs if 'USDT_' in i]\n",
    "pairs += [i for i in p.currency_pairs if any([j for j in major if 'BTC_'+j in i])]"
   ]
  },
  {
   "cell_type": "code",
   "execution_count": 5,
   "metadata": {
    "collapsed": true
   },
   "outputs": [],
   "source": [
    "inf = lambda x: np.isinf(x)\n",
    "\n",
    "def build_dataset(currency_pairs, days_back, period):\n",
    "    out = pd.DataFrame()\n",
    "    for i in currency_pairs:\n",
    "        print(i)\n",
    "        t = p.chart(i, days_back, period).df\n",
    "        t[i+'_PC'] = (t['close'] - t['close'].shift(1))/t['close']\n",
    "        t = t.rename(columns={'close': i})\n",
    "        t[i+'_volume'] = t['volume']\n",
    "        t[i+'_volume_PC'] = (t[i+'_volume'] - t[i+'_volume'].shift(1))/t[i+'_volume']\n",
    "        t[i+'_volume_PC'] = t[i+'_volume_PC'].fillna(0)\n",
    "        mask = t[i+'_volume_PC'].apply(inf)\n",
    "        t.loc[mask, i+'_volume_PC'] = 0\n",
    "        out = pd.concat([out, t[[i+'_PC', i+'_volume_PC', i, i+'_volume']]], axis=1)\n",
    "    \n",
    "    df = out[currency_pairs + [i+'_volume' for i in currency_pairs]]\n",
    "    out = out[out[i+'_PC'].notnull()]\n",
    "    return out[[i for i in out.columns if i not in currency_pairs]], df"
   ]
  },
  {
   "cell_type": "code",
   "execution_count": 255,
   "metadata": {
    "collapsed": false
   },
   "outputs": [],
   "source": [
    "df = p.chart('BTC_LTC', 60, '15m').df\n",
    "df['value'] = (df['open'] + df['close'])*0.5"
   ]
  },
  {
   "cell_type": "markdown",
   "metadata": {},
   "source": [
    "This dictionary set the parameter for the indicators which I am using to build my model.\n",
    "Daily or weekly pivot levels are used. "
   ]
  },
  {
   "cell_type": "code",
   "execution_count": 256,
   "metadata": {
    "collapsed": true
   },
   "outputs": [],
   "source": [
    "indicators = {\n",
    "    'macd': ('macd', {'slow_window': 50, 'fast_window': 15}),\n",
    "    'rsi': ('rsi', {'window': 15}),\n",
    "    'fstoc': ('fstoc', {'k_smooth': 8, 'd_smooth': 3}),\n",
    "    'atr': ('atr', None),\n",
    "    'bbands': ('bbands', {'mode':'spread'}),\n",
    "    'pivot_daily': ('pivot', {'mode': 'day'}),\n",
    "    'pivot_weekly': ('pivot', {'mode': 'week'}),\n",
    "    'consecutive_periods': ('consecutive_periods', {'add_periods': ['1h', '4h']}),\n",
    "}"
   ]
  },
  {
   "cell_type": "code",
   "execution_count": 257,
   "metadata": {
    "collapsed": false
   },
   "outputs": [],
   "source": [
    "class Model(object):\n",
    "    \n",
    "    def __init__(self, indicators, currency):\n",
    "        self.indicators = indicators\n",
    "        self.currency = currency\n",
    "        self.indicator_func = {}\n",
    "        \n",
    "    def set_indicators(self):\n",
    "        \n",
    "        def feed(x):\n",
    "            return {} if x is None else x\n",
    "        \n",
    "        for k,v in self.indicators.items():\n",
    "            if v[0] in ['macd', 'rsi', 'bbands', 'pivot', 'consecutive_periods']:\n",
    "                self.indicator_func[k] = with_series(self.currency)(indicator_partial(globals()[v[0]], **feed(v[1])))\n",
    "            else:\n",
    "                self.indicator_func[k] = indicator_partial(globals()[v[0]], **feed(v[1]))\n",
    "        \n",
    "    def get_data(self, df):\n",
    "        \n",
    "        return reduce(lambda x,y: pd.concat([x,y], axis=1), \n",
    "                      [func(df) for func in self.indicator_func.values()])\n",
    "    \n",
    "    def get_target(self, Y, span=[2, 5, 10, 25, 50, 100]):\n",
    "        \n",
    "        _Y = pd.DataFrame(index=Y.index)\n",
    "        for s in span:\n",
    "            _Y[s] = np.nan\n",
    "            _Y.iloc[:-s, -1] = (Y - Y.shift(s)).iloc[s:].values\n",
    "        return _Y"
   ]
  },
  {
   "cell_type": "code",
   "execution_count": 258,
   "metadata": {
    "collapsed": false
   },
   "outputs": [],
   "source": [
    "m = Model(indicators, 'value')\n",
    "m.set_indicators()"
   ]
  },
  {
   "cell_type": "markdown",
   "metadata": {},
   "source": [
    "This is the dataset to build the model on where all indicators are calculated at each timeframe."
   ]
  },
  {
   "cell_type": "code",
   "execution_count": null,
   "metadata": {
    "collapsed": false
   },
   "outputs": [
    {
     "name": "stdout",
     "output_type": "stream",
     "text": [
      "Calculating weekly pivot levels\n",
      "Calculating daily pivot levels\n"
     ]
    }
   ],
   "source": [
    "X = m.get_data(df).dropna()\n",
    "X.tail(20)"
   ]
  },
  {
   "cell_type": "markdown",
   "metadata": {},
   "source": [
    "Here I am calculating the price difference of the crypto pair at different periods to build the model. You can see here I am using 2, 5, 10, 25, 50 and 100 periods."
   ]
  },
  {
   "cell_type": "code",
   "execution_count": null,
   "metadata": {
    "collapsed": false,
    "scrolled": true
   },
   "outputs": [],
   "source": [
    "Y = m.get_target(df['value']).dropna()\n",
    "Y.tail(20)"
   ]
  },
  {
   "cell_type": "code",
   "execution_count": null,
   "metadata": {
    "collapsed": true
   },
   "outputs": [],
   "source": [
    "X_train = X.iloc[:-1000]\n",
    "Y_train = Y.iloc[:-1000]\n",
    "X_test = X.iloc[-1000:]\n",
    "Y_test = Y.iloc[-1000:]\n"
   ]
  },
  {
   "cell_type": "code",
   "execution_count": null,
   "metadata": {
    "collapsed": false
   },
   "outputs": [],
   "source": [
    "mask = Y_train.index.isin(X_train.index)\n",
    "Y = Y_train[mask]\n",
    "\n",
    "mask = X_train.index.isin(Y.index)\n",
    "save_last = X_train[~mask] \n",
    "X = X_train[mask]"
   ]
  },
  {
   "cell_type": "code",
   "execution_count": null,
   "metadata": {
    "collapsed": false
   },
   "outputs": [],
   "source": [
    "X.shape[0], Y.shape[0], save_last.shape[0]"
   ]
  },
  {
   "cell_type": "markdown",
   "metadata": {},
   "source": [
    "Here I am choosing to build the first model using the 5 period value difference (aka the price difference from each timeframe and that of 5 period later, 1h15m)"
   ]
  },
  {
   "cell_type": "code",
   "execution_count": null,
   "metadata": {
    "collapsed": false
   },
   "outputs": [],
   "source": [
    "from sklearn.ensemble import RandomForestRegressor, GradientBoostingRegressor\n",
    "from sklearn.ensemble import RandomForestClassifier, GradientBoostingClassifier\n",
    "\n",
    "from model_utils import *\n",
    "from preprocessing import *\n",
    "\n",
    "if len(Y[5].unique())>2:\n",
    "    est = RandomForestRegressor(n_estimators=50, min_samples_leaf=10, max_depth=4)\n",
    "    est = GradientBoostingRegressor(n_estimators=100, min_samples_leaf=10, max_depth=4)\n",
    "else:\n",
    "    est = RandomForestClassifier(n_estimators=50, min_samples_leaf=10, max_depth=3)\n",
    "    est = GradientBoostingClassifier(n_estimators=20, min_samples_leaf=10, max_depth=4)   \n",
    "\n",
    "res = do_easy_crossval(est, X, Y[5]*1000, folds=10, refit=True)\n",
    "pred = res[0]\n",
    "est = res[1]"
   ]
  },
  {
   "cell_type": "code",
   "execution_count": null,
   "metadata": {
    "collapsed": false
   },
   "outputs": [],
   "source": [
    "fig, ax = plt.subplots(1,1,figsize=(16,6))\n",
    "pred['true'].plot(kind='hist', ax=ax)\n",
    "ax.set_title('True price changes ')"
   ]
  },
  {
   "cell_type": "code",
   "execution_count": null,
   "metadata": {
    "collapsed": false
   },
   "outputs": [],
   "source": [
    "fig, ax = plt.subplots(1,1,figsize=(8,8))\n",
    "ax.scatter(pred['true'], pred['pred'])\n",
    "ax.set_xlabel('true difference')\n",
    "ax.set_ylabel('predicted difference')\n",
    "\n",
    "np.corrcoef(pred['true'], pred['pred'])[0][1]"
   ]
  },
  {
   "cell_type": "markdown",
   "metadata": {},
   "source": [
    "The correlattion between the change in the cryptocurrency value and the predicted one is quite good as you can see from the scatter plot. Note that the predicted value are always out of sample and the model was not build on the point where it is predicting.\n",
    "\n",
    "Below you can see which are the indicators sorted by there contribution to the overall prediction."
   ]
  },
  {
   "cell_type": "code",
   "execution_count": null,
   "metadata": {
    "collapsed": false
   },
   "outputs": [],
   "source": [
    "plot_feature_importances(est, X.columns, top=20)"
   ]
  },
  {
   "cell_type": "markdown",
   "metadata": {},
   "source": [
    "Ideally one would use a combination of the predicted differences at different timeframes to base the buy-sell strategy.\n",
    "\n",
    "I am going to add to this the following:\n",
    "    * same indicators for another cryptocurrency, such as USD_BCT as I thing there is signal also there\n",
    "    * Wrap mode that one model together and calibrate\n",
    "    * Create a probabilistic model to output a probability\n",
    "    "
   ]
  },
  {
   "cell_type": "code",
   "execution_count": null,
   "metadata": {
    "collapsed": false
   },
   "outputs": [],
   "source": [
    "class StackModels(object):\n",
    "    \n",
    "    def __init__(self, estimator):\n",
    "        self.estimator = estimator\n",
    "        self.fitted_estimators = []\n",
    "        self.oob_predictions = []\n",
    "        self.labels = []\n",
    "        \n",
    "    def fit(self, X, Y):\n",
    "                \n",
    "        for col in Y.columns:\n",
    "            res = do_easy_crossval(self.estimator, X, Y[col]*1000, folds=10, refit=True, plot=False)\n",
    "            self.fitted_estimators.append(copy.deepcopy(res[1]))\n",
    "            self.oob_predictions.append(res[0].sort_index()\n",
    "                                        .rename(columns={k:'{}_{}'.format(k, col) for k in res[0].columns}))\n",
    "            self.labels.append('pred_{}'.format(col))\n",
    "            \n",
    "    def predict(self, X):\n",
    "    \n",
    "        predictions = []\n",
    "    \n",
    "        for iest,est in enumerate(self.fitted_estimators):\n",
    "            \n",
    "            pred = pd.DataFrame(est.predict(X), index=X.index, columns=[self.labels[iest]])\n",
    "            predictions.append(pred)\n",
    "            \n",
    "        return pd.concat(predictions, axis=1)\n",
    "            \n",
    "    def stack_predictions(self):\n",
    "    \n",
    "        out = self.oob_predictions[0]\n",
    "        columns = [i for i in out.columns if 'pred' in i]\n",
    "        out = out[columns]\n",
    "        for df in self.oob_predictions[1:]:\n",
    "            columns = [i for i in df.columns if 'pred' in i]\n",
    "            out = out.join(df[columns], how='inner')\n",
    "            \n",
    "        return out.dropna()"
   ]
  },
  {
   "cell_type": "code",
   "execution_count": null,
   "metadata": {
    "collapsed": false
   },
   "outputs": [],
   "source": [
    "stack = StackModels(est)\n",
    "\n",
    "stack.fit(X, Y)"
   ]
  },
  {
   "cell_type": "code",
   "execution_count": null,
   "metadata": {
    "collapsed": false
   },
   "outputs": [],
   "source": [
    "stack.fitted_estimators[0] is stack.fitted_estimators[1]"
   ]
  },
  {
   "cell_type": "code",
   "execution_count": null,
   "metadata": {
    "collapsed": false
   },
   "outputs": [],
   "source": [
    "class Signals(object):\n",
    "    \n",
    "    def __init__(self):\n",
    "    \n",
    "        self.quantiles = {}\n",
    "\n",
    "    def fit(self, X):\n",
    "        \n",
    "        for col in X.columns:\n",
    "            df, Q = tag_ranges(X, col, quantiles=(0.3, 0.7))\n",
    "            self.quantiles[col] = Q\n",
    "    \n",
    "        signal_tags = [i for i in X.columns if 'tag' in i]\n",
    "        X['main'] = X[signal_tags].sum(axis=1)\n",
    "        X['signal'] = 0\n",
    "        mask = X['main'] >3\n",
    "        X.loc[mask, 'signal'] = 1\n",
    "        mask = X['main'] <-3\n",
    "        X.loc[mask, 'signal'] = -1\n",
    "\n",
    "        return X\n",
    "    \n",
    "    @staticmethod\n",
    "    def apply_tag(df, column, Q):\n",
    "        \n",
    "        df[column+'_tag'] = 0\n",
    "        mask = df[column]<Q[0]\n",
    "        df.loc[mask, column+'_tag'] = -1\n",
    "        mask = df[column]>Q[1]\n",
    "        df.loc[mask, column+'_tag'] = 1\n",
    "        \n",
    "        return df\n",
    "    \n",
    "    def predict(self, X):\n",
    "        \n",
    "        for col in X.columns:\n",
    "            \n",
    "            X = self.apply_tag(X, col, self.quantiles[col])\n",
    "            \n",
    "        signal_tags = [i for i in X.columns if 'tag' in i]\n",
    "        X['main'] = X[signal_tags].sum(axis=1)\n",
    "        \n",
    "        X['signal'] = 0\n",
    "        mask = X['main'] >3\n",
    "        X.loc[mask, 'signal'] = 1\n",
    "        mask = X['main'] <-3\n",
    "        X.loc[mask, 'signal'] = -1\n",
    "\n",
    "        return X"
   ]
  },
  {
   "cell_type": "code",
   "execution_count": null,
   "metadata": {
    "collapsed": false
   },
   "outputs": [],
   "source": [
    "U = stack.stack_predictions()\n",
    "signals = Signals()\n",
    "U = signals.fit(U)"
   ]
  },
  {
   "cell_type": "code",
   "execution_count": null,
   "metadata": {
    "collapsed": false
   },
   "outputs": [],
   "source": [
    "price = U.join(df[['value']], how='inner')['value']\n",
    "a, b, c = simulate_buy_sell(U['signal'].tolist(), price.tolist(), U.index.tolist())"
   ]
  },
  {
   "cell_type": "code",
   "execution_count": null,
   "metadata": {
    "collapsed": false
   },
   "outputs": [],
   "source": [
    "res = pd.DataFrame(np.array([0] + b[1:])+1, index=range(len(b)), columns=['perf'])\n",
    "res['pnl'] = res['perf'].cumprod()\n",
    "plt.plot(range(len(res)), res['pnl'])"
   ]
  },
  {
   "cell_type": "code",
   "execution_count": null,
   "metadata": {
    "collapsed": true
   },
   "outputs": [],
   "source": [
    "trades = pd.DataFrame(c[:-1], columns=['trade', 'open', 'close'])\n",
    "trades_sell = trades[trades['trade'] == 'S']\n",
    "trades_bought = trades[trades['trade'] == 'B']"
   ]
  },
  {
   "cell_type": "code",
   "execution_count": null,
   "metadata": {
    "collapsed": false
   },
   "outputs": [],
   "source": [
    "fig = plt.figure(figsize=(16,6))\n",
    "# fig.subplots_adjust(hspace=0)\n",
    "ax = fig.add_subplot(211)\n",
    "ax = plot_fts(df, 'value', ax=ax, plot_args={'color': 'black'})\n",
    "\n",
    "ax = ax.twinx()\n",
    "\n",
    "ymin, ymax = ax.get_ylim()[0], ax.get_ylim()[1]\n",
    "\n",
    "opened = [df.index.get_loc(i) for i in trades_bought['open']]\n",
    "closed = [df.index.get_loc(i) for i in trades_bought['close']]\n",
    "\n",
    "for iop, op in enumerate(opened):\n",
    "    ax.axvspan(op, closed[iop], ymin, ymax, facecolor='g', alpha=.3 )\n",
    "\n",
    "opened = [df.index.get_loc(i) for i in trades_sell['open']]\n",
    "closed = [df.index.get_loc(i) for i in trades_sell['close']]\n",
    "for iop, op in enumerate(opened):\n",
    "    ax.axvspan(op, closed[iop], ymin, ymax, facecolor='r', alpha=.3 )"
   ]
  },
  {
   "cell_type": "code",
   "execution_count": null,
   "metadata": {
    "collapsed": false
   },
   "outputs": [],
   "source": [
    "test_pred = stack.predict(X_test)"
   ]
  },
  {
   "cell_type": "code",
   "execution_count": null,
   "metadata": {
    "collapsed": false
   },
   "outputs": [],
   "source": [
    "test_pred = signals.predict(test_pred)"
   ]
  },
  {
   "cell_type": "code",
   "execution_count": null,
   "metadata": {
    "collapsed": false
   },
   "outputs": [],
   "source": [
    "price = test_pred.join(df[['value']], how='inner')['value']\n",
    "a, b, c = simulate_buy_sell(test_pred['signal'].tolist(), price.tolist(), test_pred.index.tolist())"
   ]
  },
  {
   "cell_type": "code",
   "execution_count": null,
   "metadata": {
    "collapsed": false
   },
   "outputs": [],
   "source": [
    "res = pd.DataFrame(np.array([0] + b[1:])+1, index=range(len(b)), columns=['perf'])\n",
    "res['pnl'] = res['perf'].cumprod()\n",
    "plt.plot(range(len(res)), res['pnl'])"
   ]
  },
  {
   "cell_type": "code",
   "execution_count": null,
   "metadata": {
    "collapsed": true
   },
   "outputs": [],
   "source": [
    "trades = pd.DataFrame(c[:-1], columns=['trade', 'open', 'close'])\n",
    "trades_sell = trades[trades['trade'] == 'S']\n",
    "trades_bought = trades[trades['trade'] == 'B']"
   ]
  },
  {
   "cell_type": "code",
   "execution_count": null,
   "metadata": {
    "collapsed": false
   },
   "outputs": [],
   "source": [
    "price = price.to_frame('value')\n",
    "\n",
    "fig = plt.figure(figsize=(16,6))\n",
    "# fig.subplots_adjust(hspace=0)\n",
    "ax = fig.add_subplot(211)\n",
    "ax = plot_fts(price, 'value', ax=ax, plot_args={'color': 'black'})\n",
    "\n",
    "ax = ax.twinx()\n",
    "\n",
    "ymin, ymax = ax.get_ylim()[0], ax.get_ylim()[1]\n",
    "\n",
    "opened = [price.index.get_loc(i) for i in trades_bought['open']]\n",
    "closed = [price.index.get_loc(i) for i in trades_bought['close']]\n",
    "\n",
    "for iop, op in enumerate(opened):\n",
    "    ax.axvspan(op, closed[iop], ymin, ymax, facecolor='g', alpha=.3 )\n",
    "\n",
    "opened = [price.index.get_loc(i) for i in trades_sell['open']]\n",
    "closed = [price.index.get_loc(i) for i in trades_sell['close']]\n",
    "for iop, op in enumerate(opened):\n",
    "    ax.axvspan(op, closed[iop], ymin, ymax, facecolor='r', alpha=.3 )"
   ]
  }
 ],
 "metadata": {
  "kernelspec": {
   "display_name": "Python 2",
   "language": "python",
   "name": "python2"
  },
  "language_info": {
   "codemirror_mode": {
    "name": "ipython",
    "version": 2
   },
   "file_extension": ".py",
   "mimetype": "text/x-python",
   "name": "python",
   "nbconvert_exporter": "python",
   "pygments_lexer": "ipython2",
   "version": "2.7.11"
  }
 },
 "nbformat": 4,
 "nbformat_minor": 1
}
