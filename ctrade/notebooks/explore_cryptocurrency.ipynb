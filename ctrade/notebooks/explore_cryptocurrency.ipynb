{
 "cells": [
  {
   "cell_type": "code",
   "execution_count": 1,
   "metadata": {},
   "outputs": [
    {
     "name": "stderr",
     "output_type": "stream",
     "text": [
      "/Users/giovannid/.virtualenvs/work/lib/python2.7/site-packages/matplotlib/cbook.py:136: MatplotlibDeprecationWarning: The finance module has been deprecated in mpl 2.0 and will be removed in mpl 2.2. Please use the module mpl_finance instead.\n",
      "  warnings.warn(message, mplDeprecation, stacklevel=1)\n"
     ]
    }
   ],
   "source": [
    "from ctrade import *\n",
    "from plot import *\n",
    "from datetime import datetime\n",
    "%matplotlib inline"
   ]
  },
  {
   "cell_type": "code",
   "execution_count": 2,
   "metadata": {
    "collapsed": true
   },
   "outputs": [],
   "source": [
    "p = Poloniex()"
   ]
  },
  {
   "cell_type": "code",
   "execution_count": 3,
   "metadata": {
    "collapsed": true
   },
   "outputs": [],
   "source": [
    "major = ['ETH', 'ETC', 'BCN', 'DASH', 'DOGE', 'LTC', 'NXT', 'REP', 'ZEC', 'ARDR', 'XRP', 'STR']"
   ]
  },
  {
   "cell_type": "code",
   "execution_count": 4,
   "metadata": {},
   "outputs": [],
   "source": [
    "pairs = [i for i in p.currency_pairs if 'USDT_' in i]\n",
    "pairs += [i for i in p.currency_pairs if any([j for j in major if 'BTC_'+j in i])]"
   ]
  },
  {
   "cell_type": "code",
   "execution_count": 5,
   "metadata": {},
   "outputs": [],
   "source": [
    "inf = lambda x: np.isinf(x)\n",
    "\n",
    "def build_dataset(currency_pairs, days_back, period):\n",
    "    out = pd.DataFrame()\n",
    "    for i in currency_pairs:\n",
    "        print(i)\n",
    "        t = p.chart(i, days_back, period).df\n",
    "        t[i+'_PC'] = (t['close'] - t['close'].shift(1))/t['close']\n",
    "        t = t.rename(columns={'close': i})\n",
    "        t[i+'_volume'] = t['volume']\n",
    "        t[i+'_volume_PC'] = (t[i+'_volume'] - t[i+'_volume'].shift(1))/t[i+'_volume']\n",
    "        t[i+'_volume_PC'] = t[i+'_volume_PC'].fillna(0)\n",
    "        mask = t[i+'_volume_PC'].apply(inf)\n",
    "        t.loc[mask, i+'_volume_PC'] = 0\n",
    "        out = pd.concat([out, t[[i+'_PC', i+'_volume_PC', i, i+'_volume']]], axis=1)\n",
    "    \n",
    "    df = out[currency_pairs + [i+'_volume' for i in currency_pairs]]\n",
    "    out = out[out[i+'_PC'].notnull()]\n",
    "    return out[[i for i in out.columns if i not in currency_pairs]], df"
   ]
  },
  {
   "cell_type": "code",
   "execution_count": 6,
   "metadata": {},
   "outputs": [
    {
     "name": "stdout",
     "output_type": "stream",
     "text": [
      "USDT_BTC\n",
      "USDT_DASH\n",
      "USDT_ETC\n",
      "USDT_ETH\n",
      "USDT_LTC\n",
      "USDT_NXT\n",
      "USDT_REP\n",
      "USDT_STR\n",
      "USDT_XMR\n",
      "USDT_XRP\n",
      "USDT_ZEC\n",
      "BTC_ARDR\n",
      "BTC_BCN\n",
      "BTC_DASH\n",
      "BTC_DOGE\n",
      "BTC_ETC\n",
      "BTC_ETH\n",
      "BTC_LTC\n",
      "BTC_NXT\n",
      "BTC_REP\n",
      "BTC_STR\n",
      "BTC_STRAT\n",
      "BTC_XRP\n",
      "BTC_ZEC\n"
     ]
    }
   ],
   "source": [
    "out, original = build_dataset(pairs, 60, '30m')"
   ]
  },
  {
   "cell_type": "code",
   "execution_count": 7,
   "metadata": {},
   "outputs": [
    {
     "data": {
      "text/plain": [
       "<matplotlib.collections.PathCollection at 0x11080dc50>"
      ]
     },
     "execution_count": 7,
     "metadata": {},
     "output_type": "execute_result"
    },
    {
     "data": {
      "image/png": "[encoded data removed]",
      "text/plain": [
       "<matplotlib.figure.Figure at 0x10f68e1d0>"
      ]
     },
     "metadata": {},
     "output_type": "display_data"
    }
   ],
   "source": [
    "plt.scatter(out['USDT_ETH_PC'], out['USDT_BTC_PC'])"
   ]
  },
  {
   "cell_type": "code",
   "execution_count": 8,
   "metadata": {},
   "outputs": [
    {
     "data": {
      "text/plain": [
       "<matplotlib.collections.PathCollection at 0x10f709390>"
      ]
     },
     "execution_count": 8,
     "metadata": {},
     "output_type": "execute_result"
    },
    {
     "data": {
      "image/png": "[encoded data removed]",
      "text/plain": [
       "<matplotlib.figure.Figure at 0x10f68e810>"
      ]
     },
     "metadata": {},
     "output_type": "display_data"
    }
   ],
   "source": [
    "plt.scatter(out['BTC_BCN_PC'], out['USDT_BTC_PC'])"
   ]
  },
  {
   "cell_type": "code",
   "execution_count": 9,
   "metadata": {},
   "outputs": [
    {
     "data": {
      "text/plain": [
       "<matplotlib.collections.PathCollection at 0x10f74d550>"
      ]
     },
     "execution_count": 9,
     "metadata": {},
     "output_type": "execute_result"
    },
    {
     "data": {
      "image/png": "[encoded data removed]",
      "text/plain": [
       "<matplotlib.figure.Figure at 0x10f7b1b10>"
      ]
     },
     "metadata": {},
     "output_type": "display_data"
    }
   ],
   "source": [
    "plt.scatter(out['BTC_XRP_PC'], out['USDT_BTC_PC'])"
   ]
  },
  {
   "cell_type": "code",
   "execution_count": 10,
   "metadata": {},
   "outputs": [],
   "source": [
    "def consecutive_periods(df, columns):\n",
    "    if not isinstance(columns, list):\n",
    "        columns = list(columns)\n",
    "    for col in columns:\n",
    "        y = df[col].apply(lambda x: 1 if x>0 else 0)\n",
    "        y = y * (y.groupby((y != y.shift()).cumsum()).cumcount() + 1)\n",
    "        df[col+'_cdw'] = y\n",
    "    return df"
   ]
  },
  {
   "cell_type": "code",
   "execution_count": 11,
   "metadata": {},
   "outputs": [],
   "source": [
    "out = consecutive_periods(out, [i for i in out.columns])"
   ]
  },
  {
   "cell_type": "code",
   "execution_count": 12,
   "metadata": {},
   "outputs": [],
   "source": [
    "def get_trainingset(df, currency):\n",
    "    \n",
    "    X = df.copy()\n",
    "    currency_col = [i for i in X.columns if currency in i]\n",
    "    rest_col = list(set(X.columns) - set(currency_col))\n",
    "\n",
    "    Y = X[currency_col]\n",
    "    X = X[rest_col]\n",
    "    return X, Y\n",
    "    "
   ]
  },
  {
   "cell_type": "code",
   "execution_count": 13,
   "metadata": {
    "collapsed": true
   },
   "outputs": [],
   "source": [
    "label = 'XRP'\n",
    "pair = 'BTC_{}_PC'.format(label)"
   ]
  },
  {
   "cell_type": "code",
   "execution_count": 14,
   "metadata": {},
   "outputs": [
    {
     "name": "stdout",
     "output_type": "stream",
     "text": [
      "(1936, 132) (1936,)\n"
     ]
    }
   ],
   "source": [
    "X, Y = get_trainingset(out, label)\n",
    "Y = Y[pair]\n",
    "\n",
    "Y = pd.Series(Y.iloc[1:].values, index=Y.index[:-1])\n",
    "mask0 = Y<-0.005\n",
    "mask1 = Y>0.005\n",
    "\n",
    "Y.loc[mask0] = 0\n",
    "Y.loc[mask1] = 1\n",
    "\n",
    "Y = Y[Y.isin([1, 0])]\n",
    "\n",
    "X = X[X.index.isin(Y.index)]\n",
    "\n",
    "print X.shape, Y.shape"
   ]
  },
  {
   "cell_type": "code",
   "execution_count": 15,
   "metadata": {},
   "outputs": [
    {
     "name": "stdout",
     "output_type": "stream",
     "text": [
      "Trained fold 1\n",
      "Trained fold 2\n",
      "Trained fold 3\n",
      "Trained fold 4\n",
      "Trained fold 5\n",
      "Trained fold 6\n",
      "Trained fold 7\n",
      "Trained fold 8\n",
      "Trained fold 9\n",
      "Trained fold 10\n"
     ]
    }
   ],
   "source": [
    "from sklearn.ensemble import RandomForestRegressor, GradientBoostingRegressor\n",
    "from sklearn.ensemble import RandomForestClassifier, GradientBoostingClassifier\n",
    "\n",
    "from model_utils import *\n",
    "from preprocessing import *\n",
    "\n",
    "if len(Y.unique())>2:\n",
    "    est = RandomForestRegressor(n_estimators=50, min_samples_leaf=10, max_depth=4)\n",
    "    est = GradientBoostingRegressor(n_estimators=100, min_samples_leaf=10, max_depth=4)\n",
    "else:\n",
    "    est = RandomForestClassifier(n_estimators=50, min_samples_leaf=10, max_depth=4)\n",
    "    est = GradientBoostingClassifier(n_estimators=100, min_samples_leaf=10, max_depth=4)   \n",
    "\n",
    "res = do_easy_crossval(est, X, Y, folds=10, refit=True)"
   ]
  },
  {
   "cell_type": "code",
   "execution_count": 16,
   "metadata": {},
   "outputs": [
    {
     "data": {
      "text/plain": [
       "<matplotlib.axes._subplots.AxesSubplot at 0x10cc29450>"
      ]
     },
     "execution_count": 16,
     "metadata": {},
     "output_type": "execute_result"
    },
    {
     "data": {
      "image/png": "[encoded data removed]",
      "text/plain": [
       "<matplotlib.figure.Figure at 0x10cc1bf10>"
      ]
     },
     "metadata": {},
     "output_type": "display_data"
    }
   ],
   "source": [
    "pred = res[0]\n",
    "est = res[1]\n",
    "\n",
    "fig, ax = plt.subplots(1,1)\n",
    "# plt.scatter(pred['true'], pred['pred'])\n",
    "# np.corrcoef(pred['true'], pred['pred'])[0][1]\n",
    "\n",
    "mask = pred['true'] == 0\n",
    "pred.loc[mask, 'proba'].plot(kind='hist', ax=ax, range=(0,1), bins=20, alpha=0.3)\n",
    "mask = pred['true'] == 1\n",
    "pred.loc[mask, 'proba'].plot(kind='hist', ax=ax, range=(0,1), bins=20, alpha=0.3)"
   ]
  },
  {
   "cell_type": "code",
   "execution_count": 18,
   "metadata": {},
   "outputs": [
    {
     "data": {
      "image/png": "[encoded data removed]",
      "text/plain": [
       "<matplotlib.figure.Figure at 0x11220c550>"
      ]
     },
     "metadata": {},
     "output_type": "display_data"
    }
   ],
   "source": [
    "plot_feature_importances(est, X.columns, top=20)"
   ]
  },
  {
   "cell_type": "code",
   "execution_count": 20,
   "metadata": {},
   "outputs": [],
   "source": [
    "pd.ewma?"
   ]
  },
  {
   "cell_type": "code",
   "execution_count": null,
   "metadata": {
    "collapsed": true
   },
   "outputs": [],
   "source": []
  }
 ],
 "metadata": {
  "kernelspec": {
   "display_name": "Python 2",
   "language": "python",
   "name": "python2"
  },
  "language_info": {
   "codemirror_mode": {
    "name": "ipython",
    "version": 2
   },
   "file_extension": ".py",
   "mimetype": "text/x-python",
   "name": "python",
   "nbconvert_exporter": "python",
   "pygments_lexer": "ipython2",
   "version": "2.7.10"
  }
 },
 "nbformat": 4,
 "nbformat_minor": 1
}
