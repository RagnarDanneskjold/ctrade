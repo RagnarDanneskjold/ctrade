{
 "cells": [
  {
   "cell_type": "code",
   "execution_count": 1,
   "metadata": {},
   "outputs": [
    {
     "name": "stderr",
     "output_type": "stream",
     "text": [
      "/Users/giovannid/.virtualenvs/work/lib/python2.7/site-packages/matplotlib/cbook.py:136: MatplotlibDeprecationWarning: The finance module has been deprecated in mpl 2.0 and will be removed in mpl 2.2. Please use the module mpl_finance instead.\n",
      "  warnings.warn(message, mplDeprecation, stacklevel=1)\n"
     ]
    }
   ],
   "source": [
    "from ctrade import *\n",
    "from plot import *\n",
    "from datetime import datetime\n",
    "from indicators import *\n",
    "import warnings; warnings.simplefilter('ignore')\n",
    "%matplotlib inline"
   ]
  },
  {
   "cell_type": "code",
   "execution_count": 2,
   "metadata": {
    "collapsed": true
   },
   "outputs": [],
   "source": [
    "p = Poloniex()"
   ]
  },
  {
   "cell_type": "code",
   "execution_count": 3,
   "metadata": {
    "collapsed": true
   },
   "outputs": [],
   "source": [
    "major = ['ETH', 'ETC', 'BCN', 'DASH', 'DOGE', 'LTC', 'NXT', 'REP', 'ZEC', 'ARDR', 'XRP', 'STR']"
   ]
  },
  {
   "cell_type": "code",
   "execution_count": 4,
   "metadata": {
    "collapsed": true
   },
   "outputs": [],
   "source": [
    "pairs = [i for i in p.currency_pairs if 'USDT_' in i]\n",
    "pairs += [i for i in p.currency_pairs if any([j for j in major if 'BTC_'+j in i])]"
   ]
  },
  {
   "cell_type": "code",
   "execution_count": null,
   "metadata": {
    "collapsed": true
   },
   "outputs": [],
   "source": [
    "inf = lambda x: np.isinf(x)\n",
    "\n",
    "def build_dataset(currency_pairs, days_back, period):\n",
    "    out = pd.DataFrame()\n",
    "    for i in currency_pairs:\n",
    "        print(i)\n",
    "        t = p.chart(i, days_back, period).df\n",
    "        t[i+'_PC'] = (t['close'] - t['close'].shift(1))/t['close']\n",
    "        t = t.rename(columns={'close': i})\n",
    "        t[i+'_volume'] = t['volume']\n",
    "        t[i+'_volume_PC'] = (t[i+'_volume'] - t[i+'_volume'].shift(1))/t[i+'_volume']\n",
    "        t[i+'_volume_PC'] = t[i+'_volume_PC'].fillna(0)\n",
    "        mask = t[i+'_volume_PC'].apply(inf)\n",
    "        t.loc[mask, i+'_volume_PC'] = 0\n",
    "        out = pd.concat([out, t[[i+'_PC', i+'_volume_PC', i, i+'_volume']]], axis=1)\n",
    "    \n",
    "    df = out[currency_pairs + [i+'_volume' for i in currency_pairs]]\n",
    "    out = out[out[i+'_PC'].notnull()]\n",
    "    return out[[i for i in out.columns if i not in currency_pairs]], df"
   ]
  },
  {
   "cell_type": "code",
   "execution_count": null,
   "metadata": {
    "collapsed": true
   },
   "outputs": [],
   "source": [
    "df = p.chart('BTC_ETH', 60, '15m').df\n",
    "df['value'] = (df['open'] + df['close'])*0.5\n",
    "df2 = p.chart('USDT_BTC', 60, '15m').df\n",
    "df2['value'] = (df2['open'] + df2['close'])*0.5"
   ]
  },
  {
   "cell_type": "code",
   "execution_count": null,
   "metadata": {
    "collapsed": true
   },
   "outputs": [],
   "source": [
    "df = moving_average_convergence(df, 'value', 50, 15)\n",
    "df2 = moving_average_convergence(df2, 'value', 50, 15)"
   ]
  },
  {
   "cell_type": "code",
   "execution_count": null,
   "metadata": {},
   "outputs": [],
   "source": [
    "df, q = tag_ranges(df, 'macd_15-50', (0.03,0.97))\n",
    "df2, q2 = tag_ranges(df2, 'macd_15-50', (0.03,0.97))"
   ]
  },
  {
   "cell_type": "code",
   "execution_count": null,
   "metadata": {},
   "outputs": [],
   "source": [
    "fig = plt.figure(figsize=(16,6))\n",
    "fig.subplots_adjust(hspace=0)\n",
    "ax = fig.add_subplot(211)\n",
    "_ = plot_fts(df, 'value', ax=ax, since=datetime(2017, 5, 8), plot_args={'color': 'black'})\n",
    "_ = plot_fts(df, 'value_ewma15', ax=ax, since=datetime(2017, 5, 8), plot_args={'color': 'red'})\n",
    "_ = plot_fts(df, 'value_ewma50', ax=ax, since=datetime(2017, 5, 8), plot_args={'color': 'yellow'})\n",
    "\n",
    "ax = fig.add_subplot(212)\n",
    "_ = plot_fts(df, 'macd_15-50', ax=ax, since=datetime(2017, 5, 8), plot_args={'color': 'green'})\n",
    "ax.plot(ax.get_xlim(), [q[0],q[0]], '--')\n",
    "ax.plot(ax.get_xlim(), [q[1],q[1]], '--')"
   ]
  },
  {
   "cell_type": "code",
   "execution_count": null,
   "metadata": {},
   "outputs": [],
   "source": [
    "fig = plt.figure(figsize=(16,6))\n",
    "fig.subplots_adjust(hspace=0)\n",
    "ax = fig.add_subplot(211)\n",
    "_ = plot_fts(df2, 'value', ax=ax, since=datetime(2017, 5, 8), plot_args={'color': 'black'})\n",
    "_ = plot_fts(df2, 'value_ewma15', ax=ax, since=datetime(2017, 5, 8), plot_args={'color': 'red'})\n",
    "_ = plot_fts(df2, 'value_ewma50', ax=ax, since=datetime(2017, 5, 8), plot_args={'color': 'yellow'})\n",
    "\n",
    "ax = fig.add_subplot(212)\n",
    "_ = plot_fts(df2, 'macd_15-50', ax=ax, since=datetime(2017, 5, 8), plot_args={'color': 'green'})\n",
    "ax.plot(ax.get_xlim(), [q2[0],q2[0]], '--')\n",
    "ax.plot(ax.get_xlim(), [q2[1],q2[1]], '--')"
   ]
  },
  {
   "cell_type": "code",
   "execution_count": null,
   "metadata": {
    "collapsed": true
   },
   "outputs": [],
   "source": [
    "def which_q(df, column, value):\n",
    "\n",
    "    x = ((df.sort_values(column, ascending=True)[column] - value)>0)*1\n",
    "    return (x==0).sum()/float(x.shape[0])"
   ]
  },
  {
   "cell_type": "code",
   "execution_count": null,
   "metadata": {
    "collapsed": true
   },
   "outputs": [],
   "source": [
    "def simulate_sell(x, prices):\n",
    "    state = ['start']\n",
    "    profit = ['start']\n",
    "    sell_price = []\n",
    "    for index in range(len(x)):\n",
    "        if state[-1]=='S' and x[index]==1:\n",
    "            gain = (sell_price - prices[index])/sell_price\n",
    "            profit.append(gain)\n",
    "            state.append('C'),\n",
    "        elif (state[-1]=='C' or state[-1]=='start') and x[index]==-1 :\n",
    "            state.append('S')\n",
    "            sell_price = prices[index]\n",
    "\n",
    "    return state, profit\n",
    "\n",
    "def simulate_buy(x, prices):\n",
    "    state = ['start']\n",
    "    profit = ['start']\n",
    "    sell_price = []\n",
    "    for index in range(len(x)):\n",
    "        if state[-1]=='B' and x[index]==-1:\n",
    "            gain = (prices[index] - sell_price)/sell_price\n",
    "            profit.append(gain)\n",
    "            state.append('C'),\n",
    "        elif (state[-1]=='C' or state[-1]=='start') and x[index]==1 :\n",
    "            state.append('B')\n",
    "            sell_price = prices[index]\n",
    "\n",
    "    return state, profit\n",
    "\n",
    "def simulate_buy_sell(x, prices, dates):\n",
    "    state = ['start']\n",
    "    profit = ['start']\n",
    "    sell_price = []\n",
    "    date = []\n",
    "    for index in range(len(x)):\n",
    "        if state[-1]=='B' and x[index]==-1:\n",
    "            gain = (prices[index] - sell_price)/sell_price\n",
    "            print 'CB', prices[index], gain\n",
    "            profit.append(gain)\n",
    "            state.append('C'),\n",
    "            date[-1] += [dates[index]]\n",
    "        elif (state[-1]=='C' or state[-1]=='start') and x[index]==1 :\n",
    "            state.append('B')\n",
    "            sell_price = prices[index]\n",
    "            print 'B', prices[index]\n",
    "            date.append(['B', dates[index]])\n",
    "        elif state[-1]=='S' and x[index]==1:\n",
    "            gain = (sell_price - prices[index])/sell_price\n",
    "            profit.append(gain)\n",
    "            state.append('C')\n",
    "            print 'CS', prices[index], gain\n",
    "            date[-1] += [dates[index]]\n",
    "        elif (state[-1]=='C' or state[-1]=='start') and x[index]==-1 :\n",
    "            state.append('S')\n",
    "            sell_price = prices[index]\n",
    "            print 'S', prices[index]\n",
    "            date.append(['S', dates[index]])\n",
    "\n",
    "            \n",
    "    return state, profit, date"
   ]
  },
  {
   "cell_type": "code",
   "execution_count": null,
   "metadata": {},
   "outputs": [],
   "source": [
    "a, b, c = simulate_buy_sell(df['macd_15-50_tag'].tolist(), df['value'].tolist(), df2.index.tolist())"
   ]
  },
  {
   "cell_type": "code",
   "execution_count": null,
   "metadata": {},
   "outputs": [],
   "source": [
    "res = pd.DataFrame(np.array([0] + b[1:])+1, index=range(len(b)), columns=['perf'])\n",
    "res['pnl'] = res['perf'].cumprod()\n",
    "plt.plot(range(len(res)), res['pnl'])"
   ]
  },
  {
   "cell_type": "code",
   "execution_count": null,
   "metadata": {
    "collapsed": true
   },
   "outputs": [],
   "source": [
    "trades = pd.DataFrame(c[:-1], columns=['trade', 'open', 'close'])\n",
    "trades_sell = trades[trades['trade'] == 'S']\n",
    "trades_bought = trades[trades['trade'] == 'B']"
   ]
  },
  {
   "cell_type": "code",
   "execution_count": null,
   "metadata": {},
   "outputs": [],
   "source": [
    "trades_sell"
   ]
  },
  {
   "cell_type": "code",
   "execution_count": null,
   "metadata": {},
   "outputs": [],
   "source": [
    "trades_bought"
   ]
  },
  {
   "cell_type": "code",
   "execution_count": null,
   "metadata": {},
   "outputs": [],
   "source": [
    "fig = plt.figure(figsize=(16,6))\n",
    "# fig.subplots_adjust(hspace=0)\n",
    "ax = fig.add_subplot(211)\n",
    "ax = plot_fts(df, 'value', ax=ax, plot_args={'color': 'black'})\n",
    "\n",
    "ax = ax.twinx()\n",
    "_ = plot_fts(df, 'macd_15-50', ax=ax, plot_args={'color': 'green'})\n",
    "\n",
    "ax.plot(ax.get_xlim(), [q2[0],q2[0]], '--')\n",
    "ax.plot(ax.get_xlim(), [q2[1],q2[1]], '--')\n",
    "\n",
    "\n",
    "ymin, ymax = ax.get_ylim()[0], ax.get_ylim()[1]\n",
    "\n",
    "opened = [df.index.get_loc(i) for i in trades_bought['open']]\n",
    "closed = [df.index.get_loc(i) for i in trades_bought['close']]\n",
    "\n",
    "for iop, op in enumerate(opened):\n",
    "    ax.axvspan(op, closed[iop], ymin, ymax, facecolor='g', alpha=.3 )\n",
    "\n",
    "opened = [df.index.get_loc(i) for i in trades_sell['open']]\n",
    "closed = [df.index.get_loc(i) for i in trades_sell['close']]\n",
    "for iop, op in enumerate(opened):\n",
    "    ax.axvspan(op, closed[iop], ymin, ymax, facecolor='r', alpha=.3 )"
   ]
  },
  {
   "cell_type": "code",
   "execution_count": null,
   "metadata": {},
   "outputs": [],
   "source": [
    "a, b, c = simulate_buy_sell(df2['macd_15-50_tag'].tolist(), df2['value'].tolist(), df2.index.tolist())"
   ]
  },
  {
   "cell_type": "code",
   "execution_count": null,
   "metadata": {},
   "outputs": [],
   "source": [
    "res = pd.DataFrame(np.array([0] + b[1:])+1, index=range(len(b)), columns=['perf'])\n",
    "res['pnl'] = res['perf'].cumprod()\n",
    "plt.plot(range(len(res)), res['pnl'])"
   ]
  },
  {
   "cell_type": "code",
   "execution_count": null,
   "metadata": {
    "collapsed": true
   },
   "outputs": [],
   "source": [
    "trades = pd.DataFrame(c[:-1], columns=['trade', 'open', 'close'])\n",
    "trades_sell = trades[trades['trade'] == 'S']\n",
    "trades_bought = trades[trades['trade'] == 'B']"
   ]
  },
  {
   "cell_type": "code",
   "execution_count": null,
   "metadata": {},
   "outputs": [],
   "source": [
    "fig = plt.figure(figsize=(16,6))\n",
    "# fig.subplots_adjust(hspace=0)\n",
    "ax = fig.add_subplot(211)\n",
    "ax = plot_fts(df2, 'value', ax=ax, plot_args={'color': 'black'})\n",
    "\n",
    "ax = ax.twinx()\n",
    "_ = plot_fts(df2, 'macd_15-50', ax=ax, plot_args={'color': 'green'})\n",
    "\n",
    "ax.plot(ax.get_xlim(), [q2[0],q2[0]], '--')\n",
    "ax.plot(ax.get_xlim(), [q2[1],q2[1]], '--')\n",
    "\n",
    "\n",
    "ymin, ymax = ax.get_ylim()[0], ax.get_ylim()[1]\n",
    "\n",
    "opened = [df2.index.get_loc(i) for i in trades_bought['open']]\n",
    "closed = [df2.index.get_loc(i) for i in trades_bought['close']]\n",
    "\n",
    "for iop, op in enumerate(opened):\n",
    "    ax.axvspan(op, closed[iop], ymin, ymax, facecolor='g', alpha=.3 )\n",
    "\n",
    "opened = [df2.index.get_loc(i) for i in trades_sell['open']]\n",
    "closed = [df2.index.get_loc(i) for i in trades_sell['close']]\n",
    "for iop, op in enumerate(opened):\n",
    "    ax.axvspan(op, closed[iop], ymin, ymax, facecolor='r', alpha=.3 )"
   ]
  },
  {
   "cell_type": "code",
   "execution_count": null,
   "metadata": {
    "collapsed": true
   },
   "outputs": [],
   "source": []
  },
  {
   "cell_type": "code",
   "execution_count": null,
   "metadata": {
    "collapsed": true
   },
   "outputs": [],
   "source": []
  },
  {
   "cell_type": "code",
   "execution_count": null,
   "metadata": {
    "collapsed": true
   },
   "outputs": [],
   "source": []
  },
  {
   "cell_type": "code",
   "execution_count": null,
   "metadata": {
    "collapsed": true
   },
   "outputs": [],
   "source": []
  },
  {
   "cell_type": "code",
   "execution_count": null,
   "metadata": {
    "collapsed": true
   },
   "outputs": [],
   "source": []
  },
  {
   "cell_type": "code",
   "execution_count": null,
   "metadata": {
    "collapsed": true
   },
   "outputs": [],
   "source": []
  }
 ],
 "metadata": {
  "kernelspec": {
   "display_name": "Python 2",
   "language": "python",
   "name": "python2"
  },
  "language_info": {
   "codemirror_mode": {
    "name": "ipython",
    "version": 2
   },
   "file_extension": ".py",
   "mimetype": "text/x-python",
   "name": "python",
   "nbconvert_exporter": "python",
   "pygments_lexer": "ipython2",
   "version": "2.7.10"
  }
 },
 "nbformat": 4,
 "nbformat_minor": 1
}
